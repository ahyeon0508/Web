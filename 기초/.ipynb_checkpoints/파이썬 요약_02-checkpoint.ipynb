{
 "cells": [
  {
   "cell_type": "code",
   "execution_count": 2,
   "metadata": {},
   "outputs": [
    {
     "name": "stdout",
     "output_type": "stream",
     "text": [
      "[100, 200, 300, 400]\n",
      "<class 'list'>\n",
      "200\n",
      "[100, 1000, 300, 400]\n"
     ]
    }
   ],
   "source": [
    "# 리스트, 튜플, 딕셔너리, 셋\n",
    "l = [100, 200, 300, 400]\n",
    "print(l)\n",
    "print(type(l))\n",
    "# print(dir(l))\n",
    "# 변경이 가능한 자료형\n",
    "# 순서가 있는 자료형\n",
    "print(l[1])\n",
    "l[1] = 1000\n",
    "print(l)"
   ]
  },
  {
   "cell_type": "code",
   "execution_count": 18,
   "metadata": {},
   "outputs": [
    {
     "ename": "SyntaxError",
     "evalue": "invalid syntax (<ipython-input-18-f228ecea5117>, line 24)",
     "output_type": "error",
     "traceback": [
      "\u001b[1;36m  File \u001b[1;32m\"<ipython-input-18-f228ecea5117>\"\u001b[1;36m, line \u001b[1;32m24\u001b[0m\n\u001b[1;33m    l = # sorted() # 리턴값\u001b[0m\n\u001b[1;37m                        ^\u001b[0m\n\u001b[1;31mSyntaxError\u001b[0m\u001b[1;31m:\u001b[0m invalid syntax\n"
     ]
    }
   ],
   "source": [
    "l = [100, 200, 300, 400]\n",
    "print(l[::-1])\n",
    "#l[start:stop:step]\n",
    "print(dir(l))\n",
    "l.append(300)\n",
    "print(l)\n",
    "# l.clear() # 비우는 것\n",
    "# l.copy()\n",
    "print(l.count(300))\n",
    "print(l)\n",
    "l.extend([100, 200, 300])\n",
    "print(l)\n",
    "print(l.index(400))\n",
    "l.insert(3, 1000)\n",
    "print(l)\n",
    "l.pop() # l 리스트의 마지막 원소값 제거됨\n",
    "print(l)\n",
    "l.remove(100) # 처음 만나는 100만 사라짐\n",
    "print(l)\n",
    "l.reverse()\n",
    "print(l)\n",
    "l.sort()\n",
    "print(l)\n",
    "# l = sorted() # 리턴값\n",
    "# reversed() # 리턴값"
   ]
  },
  {
   "cell_type": "code",
   "execution_count": 17,
   "metadata": {},
   "outputs": [
    {
     "name": "stdout",
     "output_type": "stream",
     "text": [
      "([10, 20], 200, 300)\n",
      "<class 'tuple'>\n",
      "['__add__', '__class__', '__contains__', '__delattr__', '__dir__', '__doc__', '__eq__', '__format__', '__ge__', '__getattribute__', '__getitem__', '__getnewargs__', '__gt__', '__hash__', '__init__', '__init_subclass__', '__iter__', '__le__', '__len__', '__lt__', '__mul__', '__ne__', '__new__', '__reduce__', '__reduce_ex__', '__repr__', '__rmul__', '__setattr__', '__sizeof__', '__str__', '__subclasshook__', 'count', 'index']\n",
      "([10000, 20], 200, 300)\n"
     ]
    }
   ],
   "source": [
    "l = [10, 20]\n",
    "t = (l, 200, 300)\n",
    "print(t)\n",
    "print(type(t))\n",
    "print(dir(t))\n",
    "\n",
    "# 순서가 있고\n",
    "# 변경이 불가능한 자료형\n",
    "\n",
    "# t[0] = 1000 # 컴파일 에러\n",
    "l[0] = 10000 # 참조의 불변이지 값의 불변은 아니다!\n",
    "print(t)"
   ]
  },
  {
   "cell_type": "code",
   "execution_count": 21,
   "metadata": {},
   "outputs": [
    {
     "name": "stdout",
     "output_type": "stream",
     "text": [
      "{200, 100, 300}\n",
      "<class 'set'>\n",
      "['__and__', '__class__', '__contains__', '__delattr__', '__dir__', '__doc__', '__eq__', '__format__', '__ge__', '__getattribute__', '__gt__', '__hash__', '__iand__', '__init__', '__init_subclass__', '__ior__', '__isub__', '__iter__', '__ixor__', '__le__', '__len__', '__lt__', '__ne__', '__new__', '__or__', '__rand__', '__reduce__', '__reduce_ex__', '__repr__', '__ror__', '__rsub__', '__rxor__', '__setattr__', '__sizeof__', '__str__', '__sub__', '__subclasshook__', '__xor__', 'add', 'clear', 'copy', 'difference', 'difference_update', 'discard', 'intersection', 'intersection_update', 'isdisjoint', 'issubset', 'issuperset', 'pop', 'remove', 'symmetric_difference', 'symmetric_difference_update', 'union', 'update']\n",
      "{200, 100, 500, 300}\n",
      "{'b', 'c', 'a'}\n",
      "{1, 2, 3, 100, 500, 200, 300}\n"
     ]
    }
   ],
   "source": [
    "s = {100, 200, 300, 300, 300}\n",
    "ss = {1, 2, 3}\n",
    "print(s)\n",
    "print(type(s))\n",
    "print(dir(s))\n",
    "\n",
    "# 순서가 없고\n",
    "# 값의 중복을 허락X\n",
    "s.add(500)\n",
    "print(s)\n",
    "print(set('aabbcccccc'))\n",
    "print(s.union(ss))"
   ]
  },
  {
   "cell_type": "code",
   "execution_count": 28,
   "metadata": {},
   "outputs": [
    {
     "name": "stdout",
     "output_type": "stream",
     "text": [
      "10\n",
      "<class 'dict'>\n",
      "['__class__', '__contains__', '__delattr__', '__delitem__', '__dir__', '__doc__', '__eq__', '__format__', '__ge__', '__getattribute__', '__getitem__', '__gt__', '__hash__', '__init__', '__init_subclass__', '__iter__', '__le__', '__len__', '__lt__', '__ne__', '__new__', '__reduce__', '__reduce_ex__', '__repr__', '__setattr__', '__setitem__', '__sizeof__', '__str__', '__subclasshook__', 'clear', 'copy', 'fromkeys', 'get', 'items', 'keys', 'pop', 'popitem', 'setdefault', 'update', 'values']\n",
      "dict_values([10, 20])\n",
      "dict_keys(['one', 'two'])\n",
      "dict_items([('one', 10), ('two', 20)])\n",
      "[('one', 10), ('two', 20)]\n",
      "10\n"
     ]
    }
   ],
   "source": [
    "# d = {key:value}\n",
    "d = {'one':10, 'two':20}\n",
    "# 순서 X\n",
    "# 키의 중복 허락 X\n",
    "print(d['one'])\n",
    "print(type(d))\n",
    "print(dir(d))\n",
    "print(d.values())\n",
    "print(d.keys())\n",
    "print(d.items())\n",
    "l = list(d.items())\n",
    "print(l)\n",
    "print(l[0][1])"
   ]
  },
  {
   "cell_type": "code",
   "execution_count": 29,
   "metadata": {},
   "outputs": [
    {
     "name": "stdout",
     "output_type": "stream",
     "text": [
      "{'banana': 5000, 'orange': 10000}\n",
      "{'banana': 5000, 'orange': 10000}\n"
     ]
    }
   ],
   "source": [
    "jeju = {'banana':5000, 'orange':2000}\n",
    "seoul = jeju\n",
    "jeju['orange'] = 10000\n",
    "print(seoul)\n",
    "print(jeju)"
   ]
  },
  {
   "cell_type": "code",
   "execution_count": null,
   "metadata": {},
   "outputs": [],
   "source": []
  }
 ],
 "metadata": {
  "kernelspec": {
   "display_name": "Python 3",
   "language": "python",
   "name": "python3"
  },
  "language_info": {
   "codemirror_mode": {
    "name": "ipython",
    "version": 3
   },
   "file_extension": ".py",
   "mimetype": "text/x-python",
   "name": "python",
   "nbconvert_exporter": "python",
   "pygments_lexer": "ipython3",
   "version": "3.7.4"
  }
 },
 "nbformat": 4,
 "nbformat_minor": 4
}
